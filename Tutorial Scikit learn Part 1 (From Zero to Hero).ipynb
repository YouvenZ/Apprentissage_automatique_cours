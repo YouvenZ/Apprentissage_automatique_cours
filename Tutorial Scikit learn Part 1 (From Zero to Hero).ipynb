{
 "cells": [
  {
   "cell_type": "markdown",
   "metadata": {},
   "source": [
    "<center>\n",
    "    <img src=\"img/scikit-learn-logo.png\" width=\"40%\" />\n",
    "    <br />\n",
    "    <h1>Introduction au Machine Learning avec Scikit-Learn</h1>\n",
    "</center>"
   ]
  },
  {
   "cell_type": "markdown",
   "metadata": {},
   "source": [
    "## La stack data analysis avec Python  \n",
    "\n",
    "- The __open source__ Python ecosystem provides __a standalone, versatile and powerful scientific working environment__, including: [NumPy](http://numpy.org), [SciPy](http://scipy.org), [IPython](http://ipython.org), [Matplotlib](http://matplotlib.org), [Pandas](http://pandas.pydata.org/), _and many others..._\n",
    "\n",
    "<center> \n",
    "<img src=\"img/scikit-learn-logo.png\" style=\"max-width: 120px; display: inline\" />\n",
    "<img src=\"img/numpy-logo.png\" style=\"max-width: 120px; display: inline\" />\n",
    "<img src=\"img/scipy-logo.png\" style=\"max-width: 120px; display: inline\" />\n",
    "<img src=\"img/ipython-logo.jpg\" style=\"max-width: 120px; display: inline\" />\n",
    "<img src=\"img/matplotlib-logo.png\" style=\"max-width: 120px; display: inline\"/>\n",
    "<img src=\"img/pandas-logo.png\" style=\"max-width: 120px; display: inline\" />\n",
    "</center>\n",
    "\n",
    "- Scikit-Learn builds upon NumPy and SciPy and __complements__ this scientific environment with machine learning algorithms;\n",
    "- By design, Scikit-Learn is __non-intrusive__, easy to use and easy to combine with other libraries;\n",
    "- Core algorithms are implemented in low-level languages."
   ]
  },
  {
   "cell_type": "markdown",
   "metadata": {},
   "source": [
    "## Overview of algorithm proposed by scikit-learn"
   ]
  },
  {
   "cell_type": "markdown",
   "metadata": {},
   "source": [
    "__Supervised learning:__\n",
    "\n",
    "* Linear models (Ridge, Lasso, Elastic Net, ...)\n",
    "* Support Vector Machines\n",
    "* Tree-based methods (Random Forests, Bagging, GBRT, ...)\n",
    "* Nearest neighbors \n",
    "* Neural networks (basics)\n",
    "* Gaussian Processes\n",
    "* Feature selection"
   ]
  },
  {
   "cell_type": "markdown",
   "metadata": {},
   "source": [
    "__Unsupervised learning:__\n",
    "\n",
    "* Clustering (KMeans, Ward, ...)\n",
    "* Matrix decomposition (PCA, ICA, ...)\n",
    "* Density estimation\n",
    "* Outlier detection"
   ]
  },
  {
   "cell_type": "markdown",
   "metadata": {},
   "source": [
    "__Model selection and evaluation:__\n",
    "\n",
    "* Cross-validation\n",
    "* Grid-search\n",
    "* Lots of metrics\n",
    "\n",
    "_... and many more!_ (See our [Reference](http://scikit-learn.org/dev/modules/classes.html))"
   ]
  },
  {
   "cell_type": "markdown",
   "metadata": {},
   "source": [
    "# Classification"
   ]
  },
  {
   "cell_type": "markdown",
   "metadata": {},
   "source": [
    "## Framework\n",
    "\n",
    "Data comes as a finite learning set ${\\cal L} = (X, y)$ where\n",
    "* Input samples are given as an array $X$ of shape `n_samples` $\\times$ `n_features`, taking their values in ${\\cal X}$;\n",
    "* Output values are given as an array $y$, taking _symbolic_ values in ${\\cal Y}$"
   ]
  },
  {
   "cell_type": "markdown",
   "metadata": {},
   "source": [
    "The goal of supervised classification is to build an estimator $\\varphi: {\\cal X} \\mapsto {\\cal Y}$ minimizing\n",
    "\n",
    "$$\n",
    "Err(\\varphi) = \\mathbb{E}_{X,Y}\\{ \\ell(Y, \\varphi(X)) \\}\n",
    "$$\n",
    "\n",
    "where $\\ell$ is a loss function, e.g., the zero-one loss for classification $\\ell_{01}(Y,\\hat{Y}) = 1(Y \\neq \\hat{Y})$."
   ]
  },
  {
   "cell_type": "markdown",
   "metadata": {},
   "source": [
    "# Regression "
   ]
  },
  {
   "cell_type": "markdown",
   "metadata": {},
   "source": [
    "## Framework\n",
    "\n",
    "Data comes as a finite learning set ${\\cal L} = (X, y)$ where\n",
    "* Input samples are given as an array $X$ of shape `n_samples` $\\times$ `n_features`, taking their values in ${\\cal X}$;\n",
    "* Output values are given as an array $y$, taking _numerical_ values in ${\\cal Y}$"
   ]
  },
  {
   "cell_type": "markdown",
   "metadata": {},
   "source": [
    "The goal of supervised regressor is to build an estimator $\\varphi: {\\cal X} \\mapsto {\\cal Y}$ minimizing\n",
    "\n",
    "$$\n",
    "Err(\\varphi) = \\mathbb{E}_{X,Y}\\{ \\ell(Y, \\varphi(X)) \\}\n",
    "$$\n",
    "\n",
    "where $\\ell$ is a loss function, e.g., the zero-one loss for classification $\\ell_{01}(Y,\\hat{Y}) = 1(Y \\neq \\hat{Y})$."
   ]
  },
  {
   "cell_type": "markdown",
   "metadata": {},
   "source": [
    "## Applications\n",
    "\n",
    "- Classifying signal from background events; \n",
    "- Diagnosing disease from symptoms;\n",
    "- Recognising cats in pictures;\n",
    "- Identifying body parts with Kinect cameras;\n",
    "- ...\n",
    "  "
   ]
  },
  {
   "cell_type": "markdown",
   "metadata": {},
   "source": [
    "## Data \n",
    "\n",
    "- Input data = Numpy arrays or Scipy sparse matrices ;\n",
    "- Algorithms are expressed using high-level operations defined on matrices or vectors (similar to MATLAB) ;\n",
    "    - Leverage efficient low-leverage implementations ;\n",
    "    - Keep code short and readable. "
   ]
  },
  {
   "cell_type": "markdown",
   "metadata": {},
   "source": [
    "## Loading external data\n",
    "\n",
    "- Numpy nous permet de [simple tools](https://docs.scipy.org/doc/numpy/reference/routines.io.html) directment via un fichier (CSV, binary, etc); ie #np.load(file)\n",
    "\n",
    "- Pour les données structuré, Pandas nous permet lui de load des fichiers comme [advanced tools](http://pandas.pydata.org/pandas-docs/stable/io.html) (CSV, JSON, Excel, HDF5, SQL, etc);"
   ]
  },
  {
   "cell_type": "markdown",
   "metadata": {},
   "source": [
    "## Loading internal data\n",
    "- Scikit-learn nous permet de load ou de génerer un dataset [tools]() sous la forme d'une matrice en numpy array  "
   ]
  },
  {
   "cell_type": "markdown",
   "metadata": {},
   "source": [
    "# Plan du tutorial\n",
    "\n",
    "* ## Load et inspecter un dataset via Sklearn \n",
    "* ## Procédure d'entrainement classique sur Sklearn\n",
    "    * Cas d'étude avec le dataset MNIST et un SVM classifier\n",
    "    * Cas d'étude avec le dataset: Iris et un MLP classifier\n",
    "* ## Procédure de sélection d'un modèle sur Sklearn\n",
    "    * Introduction à la validation croisée\n",
    "    * Approches naives de selection d'hyper parametre vs recherche optimisé avec RandomizedSearchCV  \n"
   ]
  },
  {
   "cell_type": "markdown",
   "metadata": {},
   "source": [
    "# Les imports requis pour le tutorial"
   ]
  },
  {
   "cell_type": "code",
   "execution_count": 3,
   "metadata": {},
   "outputs": [],
   "source": [
    "import numpy as np\n",
    "# Linear algebra\n",
    "import scipy\n",
    "# Standard scientific Python imports\n",
    "import matplotlib\n",
    "import matplotlib.pyplot as plt\n",
    "import sklearn\n",
    "# Import datasets, classifiers and performance metrics\n",
    "from sklearn import datasets, svm, metrics\n",
    "from sklearn.model_selection import train_test_split\n",
    "from sklearn.neighbors import KNeighborsClassifier\n",
    "from sklearn.linear_model import LogisticRegression\n",
    "from sklearn.model_selection import train_test_split\n",
    "from sklearn.neural_network import MLPClassifier\n"
   ]
  },
  {
   "cell_type": "code",
   "execution_count": 4,
   "metadata": {},
   "outputs": [],
   "source": [
    "# Version lib"
   ]
  },
  {
   "cell_type": "code",
   "execution_count": 5,
   "metadata": {},
   "outputs": [
    {
     "name": "stdout",
     "output_type": "stream",
     "text": [
      "1.18.1\n",
      "0.22.1\n",
      "3.1.3\n",
      "1.4.1\n"
     ]
    }
   ],
   "source": [
    "print(np.__version__)\n",
    "print(sklearn.__version__)\n",
    "print(matplotlib.__version__)\n",
    "print(scipy.__version__)"
   ]
  },
  {
   "cell_type": "markdown",
   "metadata": {},
   "source": [
    "# Load et inspecter un dataset via Sklearn "
   ]
  },
  {
   "cell_type": "code",
   "execution_count": 6,
   "metadata": {},
   "outputs": [],
   "source": [
    "dataset = datasets.load_boston()"
   ]
  },
  {
   "cell_type": "code",
   "execution_count": 11,
   "metadata": {},
   "outputs": [
    {
     "data": {
      "text/plain": [
       "dict_keys(['data', 'target', 'feature_names', 'DESCR', 'filename'])"
      ]
     },
     "execution_count": 11,
     "metadata": {},
     "output_type": "execute_result"
    }
   ],
   "source": [
    "dataset.keys()"
   ]
  },
  {
   "cell_type": "markdown",
   "metadata": {},
   "source": [
    "### With the module dataset from sklearn we can load pre built dataset or even create one. The dataset loaded is a dictionnary that contain our data already pre-processed. The dictionnary do have the following information: \n",
    "    data : \n",
    "    target :\n",
    "    features names :\n",
    "    DESCR :\n",
    "    filename :"
   ]
  },
  {
   "cell_type": "code",
   "execution_count": 37,
   "metadata": {},
   "outputs": [
    {
     "data": {
      "text/plain": [
       "{'data': array([[6.3200e-03, 1.8000e+01, 2.3100e+00, ..., 1.5300e+01, 3.9690e+02,\n",
       "         4.9800e+00],\n",
       "        [2.7310e-02, 0.0000e+00, 7.0700e+00, ..., 1.7800e+01, 3.9690e+02,\n",
       "         9.1400e+00],\n",
       "        [2.7290e-02, 0.0000e+00, 7.0700e+00, ..., 1.7800e+01, 3.9283e+02,\n",
       "         4.0300e+00],\n",
       "        ...,\n",
       "        [6.0760e-02, 0.0000e+00, 1.1930e+01, ..., 2.1000e+01, 3.9690e+02,\n",
       "         5.6400e+00],\n",
       "        [1.0959e-01, 0.0000e+00, 1.1930e+01, ..., 2.1000e+01, 3.9345e+02,\n",
       "         6.4800e+00],\n",
       "        [4.7410e-02, 0.0000e+00, 1.1930e+01, ..., 2.1000e+01, 3.9690e+02,\n",
       "         7.8800e+00]]),\n",
       " 'target': array([24. , 21.6, 34.7, 33.4, 36.2, 28.7, 22.9, 27.1, 16.5, 18.9, 15. ,\n",
       "        18.9, 21.7, 20.4, 18.2, 19.9, 23.1, 17.5, 20.2, 18.2, 13.6, 19.6,\n",
       "        15.2, 14.5, 15.6, 13.9, 16.6, 14.8, 18.4, 21. , 12.7, 14.5, 13.2,\n",
       "        13.1, 13.5, 18.9, 20. , 21. , 24.7, 30.8, 34.9, 26.6, 25.3, 24.7,\n",
       "        21.2, 19.3, 20. , 16.6, 14.4, 19.4, 19.7, 20.5, 25. , 23.4, 18.9,\n",
       "        35.4, 24.7, 31.6, 23.3, 19.6, 18.7, 16. , 22.2, 25. , 33. , 23.5,\n",
       "        19.4, 22. , 17.4, 20.9, 24.2, 21.7, 22.8, 23.4, 24.1, 21.4, 20. ,\n",
       "        20.8, 21.2, 20.3, 28. , 23.9, 24.8, 22.9, 23.9, 26.6, 22.5, 22.2,\n",
       "        23.6, 28.7, 22.6, 22. , 22.9, 25. , 20.6, 28.4, 21.4, 38.7, 43.8,\n",
       "        33.2, 27.5, 26.5, 18.6, 19.3, 20.1, 19.5, 19.5, 20.4, 19.8, 19.4,\n",
       "        21.7, 22.8, 18.8, 18.7, 18.5, 18.3, 21.2, 19.2, 20.4, 19.3, 22. ,\n",
       "        20.3, 20.5, 17.3, 18.8, 21.4, 15.7, 16.2, 18. , 14.3, 19.2, 19.6,\n",
       "        23. , 18.4, 15.6, 18.1, 17.4, 17.1, 13.3, 17.8, 14. , 14.4, 13.4,\n",
       "        15.6, 11.8, 13.8, 15.6, 14.6, 17.8, 15.4, 21.5, 19.6, 15.3, 19.4,\n",
       "        17. , 15.6, 13.1, 41.3, 24.3, 23.3, 27. , 50. , 50. , 50. , 22.7,\n",
       "        25. , 50. , 23.8, 23.8, 22.3, 17.4, 19.1, 23.1, 23.6, 22.6, 29.4,\n",
       "        23.2, 24.6, 29.9, 37.2, 39.8, 36.2, 37.9, 32.5, 26.4, 29.6, 50. ,\n",
       "        32. , 29.8, 34.9, 37. , 30.5, 36.4, 31.1, 29.1, 50. , 33.3, 30.3,\n",
       "        34.6, 34.9, 32.9, 24.1, 42.3, 48.5, 50. , 22.6, 24.4, 22.5, 24.4,\n",
       "        20. , 21.7, 19.3, 22.4, 28.1, 23.7, 25. , 23.3, 28.7, 21.5, 23. ,\n",
       "        26.7, 21.7, 27.5, 30.1, 44.8, 50. , 37.6, 31.6, 46.7, 31.5, 24.3,\n",
       "        31.7, 41.7, 48.3, 29. , 24. , 25.1, 31.5, 23.7, 23.3, 22. , 20.1,\n",
       "        22.2, 23.7, 17.6, 18.5, 24.3, 20.5, 24.5, 26.2, 24.4, 24.8, 29.6,\n",
       "        42.8, 21.9, 20.9, 44. , 50. , 36. , 30.1, 33.8, 43.1, 48.8, 31. ,\n",
       "        36.5, 22.8, 30.7, 50. , 43.5, 20.7, 21.1, 25.2, 24.4, 35.2, 32.4,\n",
       "        32. , 33.2, 33.1, 29.1, 35.1, 45.4, 35.4, 46. , 50. , 32.2, 22. ,\n",
       "        20.1, 23.2, 22.3, 24.8, 28.5, 37.3, 27.9, 23.9, 21.7, 28.6, 27.1,\n",
       "        20.3, 22.5, 29. , 24.8, 22. , 26.4, 33.1, 36.1, 28.4, 33.4, 28.2,\n",
       "        22.8, 20.3, 16.1, 22.1, 19.4, 21.6, 23.8, 16.2, 17.8, 19.8, 23.1,\n",
       "        21. , 23.8, 23.1, 20.4, 18.5, 25. , 24.6, 23. , 22.2, 19.3, 22.6,\n",
       "        19.8, 17.1, 19.4, 22.2, 20.7, 21.1, 19.5, 18.5, 20.6, 19. , 18.7,\n",
       "        32.7, 16.5, 23.9, 31.2, 17.5, 17.2, 23.1, 24.5, 26.6, 22.9, 24.1,\n",
       "        18.6, 30.1, 18.2, 20.6, 17.8, 21.7, 22.7, 22.6, 25. , 19.9, 20.8,\n",
       "        16.8, 21.9, 27.5, 21.9, 23.1, 50. , 50. , 50. , 50. , 50. , 13.8,\n",
       "        13.8, 15. , 13.9, 13.3, 13.1, 10.2, 10.4, 10.9, 11.3, 12.3,  8.8,\n",
       "         7.2, 10.5,  7.4, 10.2, 11.5, 15.1, 23.2,  9.7, 13.8, 12.7, 13.1,\n",
       "        12.5,  8.5,  5. ,  6.3,  5.6,  7.2, 12.1,  8.3,  8.5,  5. , 11.9,\n",
       "        27.9, 17.2, 27.5, 15. , 17.2, 17.9, 16.3,  7. ,  7.2,  7.5, 10.4,\n",
       "         8.8,  8.4, 16.7, 14.2, 20.8, 13.4, 11.7,  8.3, 10.2, 10.9, 11. ,\n",
       "         9.5, 14.5, 14.1, 16.1, 14.3, 11.7, 13.4,  9.6,  8.7,  8.4, 12.8,\n",
       "        10.5, 17.1, 18.4, 15.4, 10.8, 11.8, 14.9, 12.6, 14.1, 13. , 13.4,\n",
       "        15.2, 16.1, 17.8, 14.9, 14.1, 12.7, 13.5, 14.9, 20. , 16.4, 17.7,\n",
       "        19.5, 20.2, 21.4, 19.9, 19. , 19.1, 19.1, 20.1, 19.9, 19.6, 23.2,\n",
       "        29.8, 13.8, 13.3, 16.7, 12. , 14.6, 21.4, 23. , 23.7, 25. , 21.8,\n",
       "        20.6, 21.2, 19.1, 20.6, 15.2,  7. ,  8.1, 13.6, 20.1, 21.8, 24.5,\n",
       "        23.1, 19.7, 18.3, 21.2, 17.5, 16.8, 22.4, 20.6, 23.9, 22. , 11.9]),\n",
       " 'feature_names': array(['CRIM', 'ZN', 'INDUS', 'CHAS', 'NOX', 'RM', 'AGE', 'DIS', 'RAD',\n",
       "        'TAX', 'PTRATIO', 'B', 'LSTAT'], dtype='<U7'),\n",
       " 'DESCR': \".. _boston_dataset:\\n\\nBoston house prices dataset\\n---------------------------\\n\\n**Data Set Characteristics:**  \\n\\n    :Number of Instances: 506 \\n\\n    :Number of Attributes: 13 numeric/categorical predictive. Median Value (attribute 14) is usually the target.\\n\\n    :Attribute Information (in order):\\n        - CRIM     per capita crime rate by town\\n        - ZN       proportion of residential land zoned for lots over 25,000 sq.ft.\\n        - INDUS    proportion of non-retail business acres per town\\n        - CHAS     Charles River dummy variable (= 1 if tract bounds river; 0 otherwise)\\n        - NOX      nitric oxides concentration (parts per 10 million)\\n        - RM       average number of rooms per dwelling\\n        - AGE      proportion of owner-occupied units built prior to 1940\\n        - DIS      weighted distances to five Boston employment centres\\n        - RAD      index of accessibility to radial highways\\n        - TAX      full-value property-tax rate per $10,000\\n        - PTRATIO  pupil-teacher ratio by town\\n        - B        1000(Bk - 0.63)^2 where Bk is the proportion of blacks by town\\n        - LSTAT    % lower status of the population\\n        - MEDV     Median value of owner-occupied homes in $1000's\\n\\n    :Missing Attribute Values: None\\n\\n    :Creator: Harrison, D. and Rubinfeld, D.L.\\n\\nThis is a copy of UCI ML housing dataset.\\nhttps://archive.ics.uci.edu/ml/machine-learning-databases/housing/\\n\\n\\nThis dataset was taken from the StatLib library which is maintained at Carnegie Mellon University.\\n\\nThe Boston house-price data of Harrison, D. and Rubinfeld, D.L. 'Hedonic\\nprices and the demand for clean air', J. Environ. Economics & Management,\\nvol.5, 81-102, 1978.   Used in Belsley, Kuh & Welsch, 'Regression diagnostics\\n...', Wiley, 1980.   N.B. Various transformations are used in the table on\\npages 244-261 of the latter.\\n\\nThe Boston house-price data has been used in many machine learning papers that address regression\\nproblems.   \\n     \\n.. topic:: References\\n\\n   - Belsley, Kuh & Welsch, 'Regression diagnostics: Identifying Influential Data and Sources of Collinearity', Wiley, 1980. 244-261.\\n   - Quinlan,R. (1993). Combining Instance-Based and Model-Based Learning. In Proceedings on the Tenth International Conference of Machine Learning, 236-243, University of Massachusetts, Amherst. Morgan Kaufmann.\\n\",\n",
       " 'filename': 'C:\\\\Users\\\\youve\\\\anaconda3\\\\lib\\\\site-packages\\\\sklearn\\\\datasets\\\\data\\\\boston_house_prices.csv'}"
      ]
     },
     "execution_count": 37,
     "metadata": {},
     "output_type": "execute_result"
    }
   ],
   "source": [
    "dataset"
   ]
  },
  {
   "cell_type": "code",
   "execution_count": 12,
   "metadata": {},
   "outputs": [
    {
     "data": {
      "text/plain": [
       "(506, 13)"
      ]
     },
     "execution_count": 12,
     "metadata": {},
     "output_type": "execute_result"
    }
   ],
   "source": [
    "data = dataset.data\n",
    "print(data)\n",
    "data.shape"
   ]
  },
  {
   "cell_type": "code",
   "execution_count": 14,
   "metadata": {},
   "outputs": [
    {
     "name": "stdout",
     "output_type": "stream",
     "text": [
      "[24.  21.6 34.7 33.4 36.2 28.7 22.9 27.1 16.5 18.9 15.  18.9 21.7 20.4\n",
      " 18.2 19.9 23.1 17.5 20.2 18.2 13.6 19.6 15.2 14.5 15.6 13.9 16.6 14.8\n",
      " 18.4 21.  12.7 14.5 13.2 13.1 13.5 18.9 20.  21.  24.7 30.8 34.9 26.6\n",
      " 25.3 24.7 21.2 19.3 20.  16.6 14.4 19.4 19.7 20.5 25.  23.4 18.9 35.4\n",
      " 24.7 31.6 23.3 19.6 18.7 16.  22.2 25.  33.  23.5 19.4 22.  17.4 20.9\n",
      " 24.2 21.7 22.8 23.4 24.1 21.4 20.  20.8 21.2 20.3 28.  23.9 24.8 22.9\n",
      " 23.9 26.6 22.5 22.2 23.6 28.7 22.6 22.  22.9 25.  20.6 28.4 21.4 38.7\n",
      " 43.8 33.2 27.5 26.5 18.6 19.3 20.1 19.5 19.5 20.4 19.8 19.4 21.7 22.8\n",
      " 18.8 18.7 18.5 18.3 21.2 19.2 20.4 19.3 22.  20.3 20.5 17.3 18.8 21.4\n",
      " 15.7 16.2 18.  14.3 19.2 19.6 23.  18.4 15.6 18.1 17.4 17.1 13.3 17.8\n",
      " 14.  14.4 13.4 15.6 11.8 13.8 15.6 14.6 17.8 15.4 21.5 19.6 15.3 19.4\n",
      " 17.  15.6 13.1 41.3 24.3 23.3 27.  50.  50.  50.  22.7 25.  50.  23.8\n",
      " 23.8 22.3 17.4 19.1 23.1 23.6 22.6 29.4 23.2 24.6 29.9 37.2 39.8 36.2\n",
      " 37.9 32.5 26.4 29.6 50.  32.  29.8 34.9 37.  30.5 36.4 31.1 29.1 50.\n",
      " 33.3 30.3 34.6 34.9 32.9 24.1 42.3 48.5 50.  22.6 24.4 22.5 24.4 20.\n",
      " 21.7 19.3 22.4 28.1 23.7 25.  23.3 28.7 21.5 23.  26.7 21.7 27.5 30.1\n",
      " 44.8 50.  37.6 31.6 46.7 31.5 24.3 31.7 41.7 48.3 29.  24.  25.1 31.5\n",
      " 23.7 23.3 22.  20.1 22.2 23.7 17.6 18.5 24.3 20.5 24.5 26.2 24.4 24.8\n",
      " 29.6 42.8 21.9 20.9 44.  50.  36.  30.1 33.8 43.1 48.8 31.  36.5 22.8\n",
      " 30.7 50.  43.5 20.7 21.1 25.2 24.4 35.2 32.4 32.  33.2 33.1 29.1 35.1\n",
      " 45.4 35.4 46.  50.  32.2 22.  20.1 23.2 22.3 24.8 28.5 37.3 27.9 23.9\n",
      " 21.7 28.6 27.1 20.3 22.5 29.  24.8 22.  26.4 33.1 36.1 28.4 33.4 28.2\n",
      " 22.8 20.3 16.1 22.1 19.4 21.6 23.8 16.2 17.8 19.8 23.1 21.  23.8 23.1\n",
      " 20.4 18.5 25.  24.6 23.  22.2 19.3 22.6 19.8 17.1 19.4 22.2 20.7 21.1\n",
      " 19.5 18.5 20.6 19.  18.7 32.7 16.5 23.9 31.2 17.5 17.2 23.1 24.5 26.6\n",
      " 22.9 24.1 18.6 30.1 18.2 20.6 17.8 21.7 22.7 22.6 25.  19.9 20.8 16.8\n",
      " 21.9 27.5 21.9 23.1 50.  50.  50.  50.  50.  13.8 13.8 15.  13.9 13.3\n",
      " 13.1 10.2 10.4 10.9 11.3 12.3  8.8  7.2 10.5  7.4 10.2 11.5 15.1 23.2\n",
      "  9.7 13.8 12.7 13.1 12.5  8.5  5.   6.3  5.6  7.2 12.1  8.3  8.5  5.\n",
      " 11.9 27.9 17.2 27.5 15.  17.2 17.9 16.3  7.   7.2  7.5 10.4  8.8  8.4\n",
      " 16.7 14.2 20.8 13.4 11.7  8.3 10.2 10.9 11.   9.5 14.5 14.1 16.1 14.3\n",
      " 11.7 13.4  9.6  8.7  8.4 12.8 10.5 17.1 18.4 15.4 10.8 11.8 14.9 12.6\n",
      " 14.1 13.  13.4 15.2 16.1 17.8 14.9 14.1 12.7 13.5 14.9 20.  16.4 17.7\n",
      " 19.5 20.2 21.4 19.9 19.  19.1 19.1 20.1 19.9 19.6 23.2 29.8 13.8 13.3\n",
      " 16.7 12.  14.6 21.4 23.  23.7 25.  21.8 20.6 21.2 19.1 20.6 15.2  7.\n",
      "  8.1 13.6 20.1 21.8 24.5 23.1 19.7 18.3 21.2 17.5 16.8 22.4 20.6 23.9\n",
      " 22.  11.9]\n"
     ]
    },
    {
     "data": {
      "text/plain": [
       "(506,)"
      ]
     },
     "execution_count": 14,
     "metadata": {},
     "output_type": "execute_result"
    }
   ],
   "source": [
    "target = dataset.target\n",
    "print(target)\n",
    "target.shape"
   ]
  },
  {
   "cell_type": "code",
   "execution_count": 40,
   "metadata": {},
   "outputs": [
    {
     "data": {
      "text/plain": [
       "array(['CRIM', 'ZN', 'INDUS', 'CHAS', 'NOX', 'RM', 'AGE', 'DIS', 'RAD',\n",
       "       'TAX', 'PTRATIO', 'B', 'LSTAT'], dtype='<U7')"
      ]
     },
     "execution_count": 40,
     "metadata": {},
     "output_type": "execute_result"
    }
   ],
   "source": [
    "dataset.feature_names"
   ]
  },
  {
   "cell_type": "markdown",
   "metadata": {},
   "source": [
    "# Procédure d'entrainement classique sur Sklearn\n",
    "### Avec le dataset MNIST"
   ]
  },
  {
   "cell_type": "code",
   "execution_count": 41,
   "metadata": {},
   "outputs": [],
   "source": [
    "digits = datasets.load_digits()"
   ]
  },
  {
   "cell_type": "code",
   "execution_count": 42,
   "metadata": {},
   "outputs": [],
   "source": [
    "# To apply a classifier on this data, we need to flatten the image, to\n",
    "# turn the data in a (samples, feature) matrix:\n",
    "n_samples = len(digits.images)\n",
    "data = digits.images.reshape((n_samples, -1))"
   ]
  },
  {
   "cell_type": "code",
   "execution_count": 43,
   "metadata": {},
   "outputs": [],
   "source": [
    "# Create a classifier: a support vector classifier\n",
    "classifier = svm.SVC(gamma=0.001)"
   ]
  },
  {
   "cell_type": "code",
   "execution_count": 44,
   "metadata": {},
   "outputs": [],
   "source": [
    "# Split data into train and test subsets\n",
    "X_train, X_test, y_train, y_test = train_test_split(\n",
    "    data, digits.target, test_size=0.5, shuffle=False)"
   ]
  },
  {
   "cell_type": "code",
   "execution_count": 45,
   "metadata": {},
   "outputs": [
    {
     "data": {
      "text/plain": [
       "SVC(C=1.0, break_ties=False, cache_size=200, class_weight=None, coef0=0.0,\n",
       "    decision_function_shape='ovr', degree=3, gamma=0.001, kernel='rbf',\n",
       "    max_iter=-1, probability=False, random_state=None, shrinking=True,\n",
       "    tol=0.001, verbose=False)"
      ]
     },
     "execution_count": 45,
     "metadata": {},
     "output_type": "execute_result"
    }
   ],
   "source": [
    "# We learn the digits on the first half of the digits\n",
    "classifier.fit(X_train, y_train)"
   ]
  },
  {
   "cell_type": "code",
   "execution_count": 46,
   "metadata": {},
   "outputs": [],
   "source": [
    "# Now predict the value of the digit on the second half:\n",
    "predicted = classifier.predict(X_test)"
   ]
  },
  {
   "cell_type": "code",
   "execution_count": 47,
   "metadata": {},
   "outputs": [
    {
     "data": {
      "image/png": "[encoded data removed]",
      "text/plain": [
       "<Figure size 432x288 with 8 Axes>"
      ]
     },
     "metadata": {
      "needs_background": "light"
     },
     "output_type": "display_data"
    }
   ],
   "source": [
    "_, axes = plt.subplots(2, 4)\n",
    "images_and_labels = list(zip(digits.images, digits.target))\n",
    "for ax, (image, label) in zip(axes[0, :], images_and_labels[:4]):\n",
    "    ax.set_axis_off()\n",
    "    ax.imshow(image, cmap=plt.cm.gray_r, interpolation='nearest')\n",
    "    ax.set_title('Training: %i' % label)\n",
    "    \n",
    "images_and_predictions = list(zip(digits.images[n_samples // 2:], predicted))\n",
    "for ax, (image, prediction) in zip(axes[1, :], images_and_predictions[:4]):\n",
    "    ax.set_axis_off()\n",
    "    ax.imshow(image, cmap=plt.cm.gray_r, interpolation='nearest')\n",
    "    ax.set_title('Prediction: %i' % prediction)"
   ]
  },
  {
   "cell_type": "code",
   "execution_count": 48,
   "metadata": {},
   "outputs": [
    {
     "name": "stdout",
     "output_type": "stream",
     "text": [
      "Classification report for classifier SVC(C=1.0, break_ties=False, cache_size=200, class_weight=None, coef0=0.0,\n",
      "    decision_function_shape='ovr', degree=3, gamma=0.001, kernel='rbf',\n",
      "    max_iter=-1, probability=False, random_state=None, shrinking=True,\n",
      "    tol=0.001, verbose=False):\n",
      "              precision    recall  f1-score   support\n",
      "\n",
      "           0       1.00      0.99      0.99        88\n",
      "           1       0.99      0.97      0.98        91\n",
      "           2       0.99      0.99      0.99        86\n",
      "           3       0.98      0.87      0.92        91\n",
      "           4       0.99      0.96      0.97        92\n",
      "           5       0.95      0.97      0.96        91\n",
      "           6       0.99      0.99      0.99        91\n",
      "           7       0.96      0.99      0.97        89\n",
      "           8       0.94      1.00      0.97        88\n",
      "           9       0.93      0.98      0.95        92\n",
      "\n",
      "    accuracy                           0.97       899\n",
      "   macro avg       0.97      0.97      0.97       899\n",
      "weighted avg       0.97      0.97      0.97       899\n",
      "\n",
      "\n",
      "Confusion matrix:\n",
      "[[87  0  0  0  1  0  0  0  0  0]\n",
      " [ 0 88  1  0  0  0  0  0  1  1]\n",
      " [ 0  0 85  1  0  0  0  0  0  0]\n",
      " [ 0  0  0 79  0  3  0  4  5  0]\n",
      " [ 0  0  0  0 88  0  0  0  0  4]\n",
      " [ 0  0  0  0  0 88  1  0  0  2]\n",
      " [ 0  1  0  0  0  0 90  0  0  0]\n",
      " [ 0  0  0  0  0  1  0 88  0  0]\n",
      " [ 0  0  0  0  0  0  0  0 88  0]\n",
      " [ 0  0  0  1  0  1  0  0  0 90]]\n"
     ]
    },
    {
     "data": {
      "image/png": "[encoded data removed]",
      "text/plain": [
       "<Figure size 432x288 with 2 Axes>"
      ]
     },
     "metadata": {
      "needs_background": "light"
     },
     "output_type": "display_data"
    }
   ],
   "source": [
    "print(\"Classification report for classifier %s:\\n%s\\n\"\n",
    "      % (classifier, metrics.classification_report(y_test, predicted)))\n",
    "disp = metrics.plot_confusion_matrix(classifier, X_test, y_test)\n",
    "disp.figure_.suptitle(\"Confusion Matrix\")\n",
    "print(\"Confusion matrix:\\n%s\" % disp.confusion_matrix)\n",
    "\n",
    "plt.show()"
   ]
  },
  {
   "cell_type": "markdown",
   "metadata": {},
   "source": [
    "# Procédure d'entrainement classique sur Sklearn\n",
    "### Avec le dataset Iris"
   ]
  },
  {
   "cell_type": "code",
   "execution_count": 49,
   "metadata": {},
   "outputs": [],
   "source": [
    "iris_dataset = datasets.load_iris()"
   ]
  },
  {
   "cell_type": "code",
   "execution_count": 50,
   "metadata": {},
   "outputs": [
    {
     "data": {
      "text/plain": [
       "array([[5.1, 3.5, 1.4, 0.2],\n",
       "       [4.9, 3. , 1.4, 0.2],\n",
       "       [4.7, 3.2, 1.3, 0.2],\n",
       "       [4.6, 3.1, 1.5, 0.2],\n",
       "       [5. , 3.6, 1.4, 0.2],\n",
       "       [5.4, 3.9, 1.7, 0.4],\n",
       "       [4.6, 3.4, 1.4, 0.3],\n",
       "       [5. , 3.4, 1.5, 0.2],\n",
       "       [4.4, 2.9, 1.4, 0.2],\n",
       "       [4.9, 3.1, 1.5, 0.1],\n",
       "       [5.4, 3.7, 1.5, 0.2],\n",
       "       [4.8, 3.4, 1.6, 0.2],\n",
       "       [4.8, 3. , 1.4, 0.1],\n",
       "       [4.3, 3. , 1.1, 0.1],\n",
       "       [5.8, 4. , 1.2, 0.2],\n",
       "       [5.7, 4.4, 1.5, 0.4],\n",
       "       [5.4, 3.9, 1.3, 0.4],\n",
       "       [5.1, 3.5, 1.4, 0.3],\n",
       "       [5.7, 3.8, 1.7, 0.3],\n",
       "       [5.1, 3.8, 1.5, 0.3],\n",
       "       [5.4, 3.4, 1.7, 0.2],\n",
       "       [5.1, 3.7, 1.5, 0.4],\n",
       "       [4.6, 3.6, 1. , 0.2],\n",
       "       [5.1, 3.3, 1.7, 0.5],\n",
       "       [4.8, 3.4, 1.9, 0.2],\n",
       "       [5. , 3. , 1.6, 0.2],\n",
       "       [5. , 3.4, 1.6, 0.4],\n",
       "       [5.2, 3.5, 1.5, 0.2],\n",
       "       [5.2, 3.4, 1.4, 0.2],\n",
       "       [4.7, 3.2, 1.6, 0.2],\n",
       "       [4.8, 3.1, 1.6, 0.2],\n",
       "       [5.4, 3.4, 1.5, 0.4],\n",
       "       [5.2, 4.1, 1.5, 0.1],\n",
       "       [5.5, 4.2, 1.4, 0.2],\n",
       "       [4.9, 3.1, 1.5, 0.2],\n",
       "       [5. , 3.2, 1.2, 0.2],\n",
       "       [5.5, 3.5, 1.3, 0.2],\n",
       "       [4.9, 3.6, 1.4, 0.1],\n",
       "       [4.4, 3. , 1.3, 0.2],\n",
       "       [5.1, 3.4, 1.5, 0.2],\n",
       "       [5. , 3.5, 1.3, 0.3],\n",
       "       [4.5, 2.3, 1.3, 0.3],\n",
       "       [4.4, 3.2, 1.3, 0.2],\n",
       "       [5. , 3.5, 1.6, 0.6],\n",
       "       [5.1, 3.8, 1.9, 0.4],\n",
       "       [4.8, 3. , 1.4, 0.3],\n",
       "       [5.1, 3.8, 1.6, 0.2],\n",
       "       [4.6, 3.2, 1.4, 0.2],\n",
       "       [5.3, 3.7, 1.5, 0.2],\n",
       "       [5. , 3.3, 1.4, 0.2],\n",
       "       [7. , 3.2, 4.7, 1.4],\n",
       "       [6.4, 3.2, 4.5, 1.5],\n",
       "       [6.9, 3.1, 4.9, 1.5],\n",
       "       [5.5, 2.3, 4. , 1.3],\n",
       "       [6.5, 2.8, 4.6, 1.5],\n",
       "       [5.7, 2.8, 4.5, 1.3],\n",
       "       [6.3, 3.3, 4.7, 1.6],\n",
       "       [4.9, 2.4, 3.3, 1. ],\n",
       "       [6.6, 2.9, 4.6, 1.3],\n",
       "       [5.2, 2.7, 3.9, 1.4],\n",
       "       [5. , 2. , 3.5, 1. ],\n",
       "       [5.9, 3. , 4.2, 1.5],\n",
       "       [6. , 2.2, 4. , 1. ],\n",
       "       [6.1, 2.9, 4.7, 1.4],\n",
       "       [5.6, 2.9, 3.6, 1.3],\n",
       "       [6.7, 3.1, 4.4, 1.4],\n",
       "       [5.6, 3. , 4.5, 1.5],\n",
       "       [5.8, 2.7, 4.1, 1. ],\n",
       "       [6.2, 2.2, 4.5, 1.5],\n",
       "       [5.6, 2.5, 3.9, 1.1],\n",
       "       [5.9, 3.2, 4.8, 1.8],\n",
       "       [6.1, 2.8, 4. , 1.3],\n",
       "       [6.3, 2.5, 4.9, 1.5],\n",
       "       [6.1, 2.8, 4.7, 1.2],\n",
       "       [6.4, 2.9, 4.3, 1.3],\n",
       "       [6.6, 3. , 4.4, 1.4],\n",
       "       [6.8, 2.8, 4.8, 1.4],\n",
       "       [6.7, 3. , 5. , 1.7],\n",
       "       [6. , 2.9, 4.5, 1.5],\n",
       "       [5.7, 2.6, 3.5, 1. ],\n",
       "       [5.5, 2.4, 3.8, 1.1],\n",
       "       [5.5, 2.4, 3.7, 1. ],\n",
       "       [5.8, 2.7, 3.9, 1.2],\n",
       "       [6. , 2.7, 5.1, 1.6],\n",
       "       [5.4, 3. , 4.5, 1.5],\n",
       "       [6. , 3.4, 4.5, 1.6],\n",
       "       [6.7, 3.1, 4.7, 1.5],\n",
       "       [6.3, 2.3, 4.4, 1.3],\n",
       "       [5.6, 3. , 4.1, 1.3],\n",
       "       [5.5, 2.5, 4. , 1.3],\n",
       "       [5.5, 2.6, 4.4, 1.2],\n",
       "       [6.1, 3. , 4.6, 1.4],\n",
       "       [5.8, 2.6, 4. , 1.2],\n",
       "       [5. , 2.3, 3.3, 1. ],\n",
       "       [5.6, 2.7, 4.2, 1.3],\n",
       "       [5.7, 3. , 4.2, 1.2],\n",
       "       [5.7, 2.9, 4.2, 1.3],\n",
       "       [6.2, 2.9, 4.3, 1.3],\n",
       "       [5.1, 2.5, 3. , 1.1],\n",
       "       [5.7, 2.8, 4.1, 1.3],\n",
       "       [6.3, 3.3, 6. , 2.5],\n",
       "       [5.8, 2.7, 5.1, 1.9],\n",
       "       [7.1, 3. , 5.9, 2.1],\n",
       "       [6.3, 2.9, 5.6, 1.8],\n",
       "       [6.5, 3. , 5.8, 2.2],\n",
       "       [7.6, 3. , 6.6, 2.1],\n",
       "       [4.9, 2.5, 4.5, 1.7],\n",
       "       [7.3, 2.9, 6.3, 1.8],\n",
       "       [6.7, 2.5, 5.8, 1.8],\n",
       "       [7.2, 3.6, 6.1, 2.5],\n",
       "       [6.5, 3.2, 5.1, 2. ],\n",
       "       [6.4, 2.7, 5.3, 1.9],\n",
       "       [6.8, 3. , 5.5, 2.1],\n",
       "       [5.7, 2.5, 5. , 2. ],\n",
       "       [5.8, 2.8, 5.1, 2.4],\n",
       "       [6.4, 3.2, 5.3, 2.3],\n",
       "       [6.5, 3. , 5.5, 1.8],\n",
       "       [7.7, 3.8, 6.7, 2.2],\n",
       "       [7.7, 2.6, 6.9, 2.3],\n",
       "       [6. , 2.2, 5. , 1.5],\n",
       "       [6.9, 3.2, 5.7, 2.3],\n",
       "       [5.6, 2.8, 4.9, 2. ],\n",
       "       [7.7, 2.8, 6.7, 2. ],\n",
       "       [6.3, 2.7, 4.9, 1.8],\n",
       "       [6.7, 3.3, 5.7, 2.1],\n",
       "       [7.2, 3.2, 6. , 1.8],\n",
       "       [6.2, 2.8, 4.8, 1.8],\n",
       "       [6.1, 3. , 4.9, 1.8],\n",
       "       [6.4, 2.8, 5.6, 2.1],\n",
       "       [7.2, 3. , 5.8, 1.6],\n",
       "       [7.4, 2.8, 6.1, 1.9],\n",
       "       [7.9, 3.8, 6.4, 2. ],\n",
       "       [6.4, 2.8, 5.6, 2.2],\n",
       "       [6.3, 2.8, 5.1, 1.5],\n",
       "       [6.1, 2.6, 5.6, 1.4],\n",
       "       [7.7, 3. , 6.1, 2.3],\n",
       "       [6.3, 3.4, 5.6, 2.4],\n",
       "       [6.4, 3.1, 5.5, 1.8],\n",
       "       [6. , 3. , 4.8, 1.8],\n",
       "       [6.9, 3.1, 5.4, 2.1],\n",
       "       [6.7, 3.1, 5.6, 2.4],\n",
       "       [6.9, 3.1, 5.1, 2.3],\n",
       "       [5.8, 2.7, 5.1, 1.9],\n",
       "       [6.8, 3.2, 5.9, 2.3],\n",
       "       [6.7, 3.3, 5.7, 2.5],\n",
       "       [6.7, 3. , 5.2, 2.3],\n",
       "       [6.3, 2.5, 5. , 1.9],\n",
       "       [6.5, 3. , 5.2, 2. ],\n",
       "       [6.2, 3.4, 5.4, 2.3],\n",
       "       [5.9, 3. , 5.1, 1.8]])"
      ]
     },
     "execution_count": 50,
     "metadata": {},
     "output_type": "execute_result"
    }
   ],
   "source": [
    "X=iris_dataset.data\n",
    "X"
   ]
  },
  {
   "cell_type": "code",
   "execution_count": 51,
   "metadata": {},
   "outputs": [
    {
     "data": {
      "text/plain": [
       "array([0, 1, 2])"
      ]
     },
     "execution_count": 51,
     "metadata": {},
     "output_type": "execute_result"
    }
   ],
   "source": [
    "y=iris_dataset.target\n",
    "np.unique(y)\n"
   ]
  },
  {
   "cell_type": "code",
   "execution_count": 52,
   "metadata": {},
   "outputs": [
    {
     "data": {
      "text/plain": [
       "array(['setosa', 'versicolor', 'virginica'], dtype='<U10')"
      ]
     },
     "execution_count": 52,
     "metadata": {},
     "output_type": "execute_result"
    }
   ],
   "source": [
    "iris_dataset.target_names"
   ]
  },
  {
   "cell_type": "code",
   "execution_count": 53,
   "metadata": {},
   "outputs": [],
   "source": [
    "x_train, x_test, y_train, y_test = train_test_split(X,y, test_size= 0.25, random_state=27)"
   ]
  },
  {
   "cell_type": "code",
   "execution_count": 54,
   "metadata": {},
   "outputs": [],
   "source": [
    "clf = MLPClassifier(hidden_layer_sizes=(100,100,100), max_iter=500, alpha=0.0001,solver='sgd', verbose=10,  random_state=21,tol=0.000000001)"
   ]
  },
  {
   "cell_type": "code",
   "execution_count": 55,
   "metadata": {},
   "outputs": [
    {
     "name": "stdout",
     "output_type": "stream",
     "text": [
      "Iteration 1, loss = 1.11995340\n",
      "Iteration 2, loss = 1.10761638\n",
      "Iteration 3, loss = 1.09029809\n",
      "Iteration 4, loss = 1.06925268\n",
      "Iteration 5, loss = 1.04668042\n",
      "Iteration 6, loss = 1.02419155\n",
      "Iteration 7, loss = 1.00266940\n",
      "Iteration 8, loss = 0.98215738\n",
      "Iteration 9, loss = 0.96305214\n",
      "Iteration 10, loss = 0.94570841\n",
      "Iteration 11, loss = 0.93007795\n",
      "Iteration 12, loss = 0.91660410\n",
      "Iteration 13, loss = 0.90519150\n",
      "Iteration 14, loss = 0.89580798\n",
      "Iteration 15, loss = 0.88810315\n",
      "Iteration 16, loss = 0.88060401\n",
      "Iteration 17, loss = 0.87281296\n",
      "Iteration 18, loss = 0.86451399\n",
      "Iteration 19, loss = 0.85572588\n",
      "Iteration 20, loss = 0.84656042\n",
      "Iteration 21, loss = 0.83725168\n",
      "Iteration 22, loss = 0.82791447\n",
      "Iteration 23, loss = 0.81853228\n",
      "Iteration 24, loss = 0.80923289\n",
      "Iteration 25, loss = 0.80001423\n",
      "Iteration 26, loss = 0.79094461\n",
      "Iteration 27, loss = 0.78199743\n",
      "Iteration 28, loss = 0.77316176\n",
      "Iteration 29, loss = 0.76431455\n",
      "Iteration 30, loss = 0.75540286\n",
      "Iteration 31, loss = 0.74632259\n",
      "Iteration 32, loss = 0.73720641\n",
      "Iteration 33, loss = 0.72825795\n",
      "Iteration 34, loss = 0.71950713\n",
      "Iteration 35, loss = 0.71106703\n",
      "Iteration 36, loss = 0.70291152\n",
      "Iteration 37, loss = 0.69509254\n",
      "Iteration 38, loss = 0.68764108\n",
      "Iteration 39, loss = 0.68040863\n",
      "Iteration 40, loss = 0.67331411\n",
      "Iteration 41, loss = 0.66633731\n",
      "Iteration 42, loss = 0.65947697\n",
      "Iteration 43, loss = 0.65276978\n",
      "Iteration 44, loss = 0.64627834\n",
      "Iteration 45, loss = 0.63998670\n",
      "Iteration 46, loss = 0.63385469\n",
      "Iteration 47, loss = 0.62783500\n",
      "Iteration 48, loss = 0.62191007\n",
      "Iteration 49, loss = 0.61606036\n",
      "Iteration 50, loss = 0.61026146\n",
      "Iteration 51, loss = 0.60453625\n",
      "Iteration 52, loss = 0.59889151\n",
      "Iteration 53, loss = 0.59332192\n",
      "Iteration 54, loss = 0.58782080\n",
      "Iteration 55, loss = 0.58239336\n",
      "Iteration 56, loss = 0.57704832\n",
      "Iteration 57, loss = 0.57174724\n",
      "Iteration 58, loss = 0.56645372\n",
      "Iteration 59, loss = 0.56115307\n",
      "Iteration 60, loss = 0.55586332\n",
      "Iteration 61, loss = 0.55048288\n",
      "Iteration 62, loss = 0.54517855\n",
      "Iteration 63, loss = 0.54008225\n",
      "Iteration 64, loss = 0.53522004\n",
      "Iteration 65, loss = 0.53063049\n",
      "Iteration 66, loss = 0.52620731\n",
      "Iteration 67, loss = 0.52190394\n",
      "Iteration 68, loss = 0.51773703\n",
      "Iteration 69, loss = 0.51366308\n",
      "Iteration 70, loss = 0.50965644\n",
      "Iteration 71, loss = 0.50569673\n",
      "Iteration 72, loss = 0.50178382\n",
      "Iteration 73, loss = 0.49791773\n",
      "Iteration 74, loss = 0.49409942\n",
      "Iteration 75, loss = 0.49033676\n",
      "Iteration 76, loss = 0.48663222\n",
      "Iteration 77, loss = 0.48298465\n",
      "Iteration 78, loss = 0.47937842\n",
      "Iteration 79, loss = 0.47580612\n",
      "Iteration 80, loss = 0.47224694\n",
      "Iteration 81, loss = 0.46869608\n",
      "Iteration 82, loss = 0.46515134\n",
      "Iteration 83, loss = 0.46163533\n",
      "Iteration 84, loss = 0.45814975\n",
      "Iteration 85, loss = 0.45467118\n",
      "Iteration 86, loss = 0.45120713\n",
      "Iteration 87, loss = 0.44773586\n",
      "Iteration 88, loss = 0.44425897\n",
      "Iteration 89, loss = 0.44084083\n",
      "Iteration 90, loss = 0.43738429\n",
      "Iteration 91, loss = 0.43386806\n",
      "Iteration 92, loss = 0.43038770\n",
      "Iteration 93, loss = 0.42695641\n",
      "Iteration 94, loss = 0.42363431\n",
      "Iteration 95, loss = 0.42046732\n",
      "Iteration 96, loss = 0.41742096\n",
      "Iteration 97, loss = 0.41448018\n",
      "Iteration 98, loss = 0.41167516\n",
      "Iteration 99, loss = 0.40893486\n",
      "Iteration 100, loss = 0.40629720\n",
      "Iteration 101, loss = 0.40375977\n",
      "Iteration 102, loss = 0.40127854\n",
      "Iteration 103, loss = 0.39884434\n",
      "Iteration 104, loss = 0.39646805\n",
      "Iteration 105, loss = 0.39414038\n",
      "Iteration 106, loss = 0.39185352\n",
      "Iteration 107, loss = 0.38960036\n",
      "Iteration 108, loss = 0.38737584\n",
      "Iteration 109, loss = 0.38518376\n",
      "Iteration 110, loss = 0.38302197\n",
      "Iteration 111, loss = 0.38089035\n",
      "Iteration 112, loss = 0.37878566\n",
      "Iteration 113, loss = 0.37671328\n",
      "Iteration 114, loss = 0.37466914\n",
      "Iteration 115, loss = 0.37265785\n",
      "Iteration 116, loss = 0.37067598\n",
      "Iteration 117, loss = 0.36872237\n",
      "Iteration 118, loss = 0.36679300\n",
      "Iteration 119, loss = 0.36488648\n",
      "Iteration 120, loss = 0.36300428\n",
      "Iteration 121, loss = 0.36115113\n",
      "Iteration 122, loss = 0.35932279\n",
      "Iteration 123, loss = 0.35751854\n",
      "Iteration 124, loss = 0.35573613\n",
      "Iteration 125, loss = 0.35397494\n",
      "Iteration 126, loss = 0.35223306\n",
      "Iteration 127, loss = 0.35051130\n",
      "Iteration 128, loss = 0.34880910\n",
      "Iteration 129, loss = 0.34712592\n",
      "Iteration 130, loss = 0.34546152\n",
      "Iteration 131, loss = 0.34381469\n",
      "Iteration 132, loss = 0.34218436\n",
      "Iteration 133, loss = 0.34057009\n",
      "Iteration 134, loss = 0.33897220\n",
      "Iteration 135, loss = 0.33739057\n",
      "Iteration 136, loss = 0.33582305\n",
      "Iteration 137, loss = 0.33426985\n",
      "Iteration 138, loss = 0.33273154\n",
      "Iteration 139, loss = 0.33120606\n",
      "Iteration 140, loss = 0.32969443\n",
      "Iteration 141, loss = 0.32819853\n",
      "Iteration 142, loss = 0.32671634\n",
      "Iteration 143, loss = 0.32524593\n",
      "Iteration 144, loss = 0.32378702\n",
      "Iteration 145, loss = 0.32234331\n",
      "Iteration 146, loss = 0.32091297\n",
      "Iteration 147, loss = 0.31949452\n",
      "Iteration 148, loss = 0.31808799\n",
      "Iteration 149, loss = 0.31669229\n",
      "Iteration 150, loss = 0.31530751\n",
      "Iteration 151, loss = 0.31393382\n",
      "Iteration 152, loss = 0.31257000\n",
      "Iteration 153, loss = 0.31121609\n",
      "Iteration 154, loss = 0.30987168\n",
      "Iteration 155, loss = 0.30853655\n",
      "Iteration 156, loss = 0.30721124\n",
      "Iteration 157, loss = 0.30589507\n",
      "Iteration 158, loss = 0.30458776\n",
      "Iteration 159, loss = 0.30328903\n",
      "Iteration 160, loss = 0.30199892\n",
      "Iteration 161, loss = 0.30071755\n",
      "Iteration 162, loss = 0.29944452\n",
      "Iteration 163, loss = 0.29817942\n",
      "Iteration 164, loss = 0.29692233\n",
      "Iteration 165, loss = 0.29567329\n",
      "Iteration 166, loss = 0.29443223\n",
      "Iteration 167, loss = 0.29319932\n",
      "Iteration 168, loss = 0.29197455\n",
      "Iteration 169, loss = 0.29075756\n",
      "Iteration 170, loss = 0.28954964\n",
      "Iteration 171, loss = 0.28834922\n",
      "Iteration 172, loss = 0.28715605\n",
      "Iteration 173, loss = 0.28596999\n",
      "Iteration 174, loss = 0.28479092\n",
      "Iteration 175, loss = 0.28361878\n",
      "Iteration 176, loss = 0.28245345\n",
      "Iteration 177, loss = 0.28129485\n",
      "Iteration 178, loss = 0.28014286\n",
      "Iteration 179, loss = 0.27899743\n",
      "Iteration 180, loss = 0.27785867\n",
      "Iteration 181, loss = 0.27672682\n",
      "Iteration 182, loss = 0.27560154\n",
      "Iteration 183, loss = 0.27448271\n",
      "Iteration 184, loss = 0.27337034\n",
      "Iteration 185, loss = 0.27226438\n",
      "Iteration 186, loss = 0.27116527\n",
      "Iteration 187, loss = 0.27007224\n",
      "Iteration 188, loss = 0.26898547\n",
      "Iteration 189, loss = 0.26790485\n",
      "Iteration 190, loss = 0.26683044\n",
      "Iteration 191, loss = 0.26576220\n",
      "Iteration 192, loss = 0.26470007\n",
      "Iteration 193, loss = 0.26364397\n",
      "Iteration 194, loss = 0.26259391\n",
      "Iteration 195, loss = 0.26154984\n",
      "Iteration 196, loss = 0.26051158\n",
      "Iteration 197, loss = 0.25947910\n",
      "Iteration 198, loss = 0.25845224\n",
      "Iteration 199, loss = 0.25743085\n",
      "Iteration 200, loss = 0.25641504\n",
      "Iteration 201, loss = 0.25540482\n",
      "Iteration 202, loss = 0.25440021\n",
      "Iteration 203, loss = 0.25340106\n",
      "Iteration 204, loss = 0.25240767\n",
      "Iteration 205, loss = 0.25141971\n",
      "Iteration 206, loss = 0.25043726\n",
      "Iteration 207, loss = 0.24946013\n",
      "Iteration 208, loss = 0.24848828\n",
      "Iteration 209, loss = 0.24752177\n",
      "Iteration 210, loss = 0.24656061\n",
      "Iteration 211, loss = 0.24560522\n",
      "Iteration 212, loss = 0.24465576\n",
      "Iteration 213, loss = 0.24371170\n",
      "Iteration 214, loss = 0.24277304\n",
      "Iteration 215, loss = 0.24183996\n",
      "Iteration 216, loss = 0.24091205\n",
      "Iteration 217, loss = 0.23998942\n",
      "Iteration 218, loss = 0.23907219\n",
      "Iteration 219, loss = 0.23816064\n",
      "Iteration 220, loss = 0.23725432\n",
      "Iteration 221, loss = 0.23635307\n",
      "Iteration 222, loss = 0.23545664\n",
      "Iteration 223, loss = 0.23456511\n",
      "Iteration 224, loss = 0.23367928\n",
      "Iteration 225, loss = 0.23279814\n",
      "Iteration 226, loss = 0.23192185\n",
      "Iteration 227, loss = 0.23105073\n",
      "Iteration 228, loss = 0.23018479\n",
      "Iteration 229, loss = 0.22932375\n",
      "Iteration 230, loss = 0.22846739\n",
      "Iteration 231, loss = 0.22761632\n",
      "Iteration 232, loss = 0.22677052\n",
      "Iteration 233, loss = 0.22592955\n",
      "Iteration 234, loss = 0.22509323\n",
      "Iteration 235, loss = 0.22426161\n",
      "Iteration 236, loss = 0.22343476\n",
      "Iteration 237, loss = 0.22261269\n",
      "Iteration 238, loss = 0.22179538\n",
      "Iteration 239, loss = 0.22098264\n",
      "Iteration 240, loss = 0.22017411\n",
      "Iteration 241, loss = 0.21937020\n",
      "Iteration 242, loss = 0.21857094\n",
      "Iteration 243, loss = 0.21777617\n",
      "Iteration 244, loss = 0.21698564\n",
      "Iteration 245, loss = 0.21619952\n",
      "Iteration 246, loss = 0.21541775\n",
      "Iteration 247, loss = 0.21464050\n",
      "Iteration 248, loss = 0.21386771\n",
      "Iteration 249, loss = 0.21309931\n",
      "Iteration 250, loss = 0.21233541\n",
      "Iteration 251, loss = 0.21157579\n",
      "Iteration 252, loss = 0.21082076\n",
      "Iteration 253, loss = 0.21007045\n",
      "Iteration 254, loss = 0.20932454\n",
      "Iteration 255, loss = 0.20858310\n",
      "Iteration 256, loss = 0.20784615\n",
      "Iteration 257, loss = 0.20711356\n",
      "Iteration 258, loss = 0.20638521\n",
      "Iteration 259, loss = 0.20566133\n",
      "Iteration 260, loss = 0.20494165\n",
      "Iteration 261, loss = 0.20422626\n",
      "Iteration 262, loss = 0.20351519\n",
      "Iteration 263, loss = 0.20280843\n",
      "Iteration 264, loss = 0.20210604\n",
      "Iteration 265, loss = 0.20140791\n",
      "Iteration 266, loss = 0.20071402\n",
      "Iteration 267, loss = 0.20002434\n",
      "Iteration 268, loss = 0.19933889\n",
      "Iteration 269, loss = 0.19865748\n",
      "Iteration 270, loss = 0.19798002\n",
      "Iteration 271, loss = 0.19730654\n",
      "Iteration 272, loss = 0.19663684\n",
      "Iteration 273, loss = 0.19597106\n",
      "Iteration 274, loss = 0.19530920\n",
      "Iteration 275, loss = 0.19465123\n",
      "Iteration 276, loss = 0.19399663\n",
      "Iteration 277, loss = 0.19334583\n",
      "Iteration 278, loss = 0.19269892\n",
      "Iteration 279, loss = 0.19205575\n",
      "Iteration 280, loss = 0.19141625\n",
      "Iteration 281, loss = 0.19078053\n",
      "Iteration 282, loss = 0.19014881\n",
      "Iteration 283, loss = 0.18952182\n",
      "Iteration 284, loss = 0.18889879\n",
      "Iteration 285, loss = 0.18827972\n",
      "Iteration 286, loss = 0.18766500\n",
      "Iteration 287, loss = 0.18705410\n"
     ]
    },
    {
     "name": "stdout",
     "output_type": "stream",
     "text": [
      "Iteration 288, loss = 0.18644670\n",
      "Iteration 289, loss = 0.18584309\n",
      "Iteration 290, loss = 0.18524312\n",
      "Iteration 291, loss = 0.18464676\n",
      "Iteration 292, loss = 0.18405421\n",
      "Iteration 293, loss = 0.18346564\n",
      "Iteration 294, loss = 0.18288103\n",
      "Iteration 295, loss = 0.18230027\n",
      "Iteration 296, loss = 0.18172312\n",
      "Iteration 297, loss = 0.18114965\n",
      "Iteration 298, loss = 0.18057960\n",
      "Iteration 299, loss = 0.18001306\n",
      "Iteration 300, loss = 0.17944980\n",
      "Iteration 301, loss = 0.17889018\n",
      "Iteration 302, loss = 0.17833367\n",
      "Iteration 303, loss = 0.17778027\n",
      "Iteration 304, loss = 0.17722998\n",
      "Iteration 305, loss = 0.17668303\n",
      "Iteration 306, loss = 0.17613933\n",
      "Iteration 307, loss = 0.17559822\n",
      "Iteration 308, loss = 0.17506087\n",
      "Iteration 309, loss = 0.17452638\n",
      "Iteration 310, loss = 0.17399560\n",
      "Iteration 311, loss = 0.17346885\n",
      "Iteration 312, loss = 0.17294527\n",
      "Iteration 313, loss = 0.17242508\n",
      "Iteration 314, loss = 0.17190861\n",
      "Iteration 315, loss = 0.17139528\n",
      "Iteration 316, loss = 0.17088476\n",
      "Iteration 317, loss = 0.17037747\n",
      "Iteration 318, loss = 0.16987337\n",
      "Iteration 319, loss = 0.16937242\n",
      "Iteration 320, loss = 0.16887474\n",
      "Iteration 321, loss = 0.16837995\n",
      "Iteration 322, loss = 0.16788702\n",
      "Iteration 323, loss = 0.16739696\n",
      "Iteration 324, loss = 0.16691012\n",
      "Iteration 325, loss = 0.16642657\n",
      "Iteration 326, loss = 0.16594592\n",
      "Iteration 327, loss = 0.16546836\n",
      "Iteration 328, loss = 0.16499343\n",
      "Iteration 329, loss = 0.16452158\n",
      "Iteration 330, loss = 0.16405259\n",
      "Iteration 331, loss = 0.16358664\n",
      "Iteration 332, loss = 0.16312381\n",
      "Iteration 333, loss = 0.16266396\n",
      "Iteration 334, loss = 0.16220711\n",
      "Iteration 335, loss = 0.16175336\n",
      "Iteration 336, loss = 0.16130307\n",
      "Iteration 337, loss = 0.16085588\n",
      "Iteration 338, loss = 0.16041185\n",
      "Iteration 339, loss = 0.15997046\n",
      "Iteration 340, loss = 0.15953167\n",
      "Iteration 341, loss = 0.15909577\n",
      "Iteration 342, loss = 0.15866238\n",
      "Iteration 343, loss = 0.15823150\n",
      "Iteration 344, loss = 0.15780345\n",
      "Iteration 345, loss = 0.15737973\n",
      "Iteration 346, loss = 0.15695953\n",
      "Iteration 347, loss = 0.15654232\n",
      "Iteration 348, loss = 0.15612809\n",
      "Iteration 349, loss = 0.15571683\n",
      "Iteration 350, loss = 0.15530709\n",
      "Iteration 351, loss = 0.15489982\n",
      "Iteration 352, loss = 0.15449533\n",
      "Iteration 353, loss = 0.15409350\n",
      "Iteration 354, loss = 0.15369432\n",
      "Iteration 355, loss = 0.15329802\n",
      "Iteration 356, loss = 0.15290438\n",
      "Iteration 357, loss = 0.15251347\n",
      "Iteration 358, loss = 0.15212527\n",
      "Iteration 359, loss = 0.15173973\n",
      "Iteration 360, loss = 0.15135684\n",
      "Iteration 361, loss = 0.15097617\n",
      "Iteration 362, loss = 0.15059734\n",
      "Iteration 363, loss = 0.15022100\n",
      "Iteration 364, loss = 0.14984711\n",
      "Iteration 365, loss = 0.14947517\n",
      "Iteration 366, loss = 0.14910497\n",
      "Iteration 367, loss = 0.14873721\n",
      "Iteration 368, loss = 0.14837188\n",
      "Iteration 369, loss = 0.14800891\n",
      "Iteration 370, loss = 0.14764831\n",
      "Iteration 371, loss = 0.14729019\n",
      "Iteration 372, loss = 0.14693447\n",
      "Iteration 373, loss = 0.14658089\n",
      "Iteration 374, loss = 0.14622957\n",
      "Iteration 375, loss = 0.14588050\n",
      "Iteration 376, loss = 0.14553357\n",
      "Iteration 377, loss = 0.14518884\n",
      "Iteration 378, loss = 0.14484736\n",
      "Iteration 379, loss = 0.14450743\n",
      "Iteration 380, loss = 0.14416975\n",
      "Iteration 381, loss = 0.14383429\n",
      "Iteration 382, loss = 0.14350106\n",
      "Iteration 383, loss = 0.14316918\n",
      "Iteration 384, loss = 0.14283811\n",
      "Iteration 385, loss = 0.14250761\n",
      "Iteration 386, loss = 0.14217777\n",
      "Iteration 387, loss = 0.14184954\n",
      "Iteration 388, loss = 0.14152148\n",
      "Iteration 389, loss = 0.14119451\n",
      "Iteration 390, loss = 0.14086795\n",
      "Iteration 391, loss = 0.14054291\n",
      "Iteration 392, loss = 0.14021946\n",
      "Iteration 393, loss = 0.13989943\n",
      "Iteration 394, loss = 0.13958168\n",
      "Iteration 395, loss = 0.13926619\n",
      "Iteration 396, loss = 0.13895258\n",
      "Iteration 397, loss = 0.13864084\n",
      "Iteration 398, loss = 0.13833170\n",
      "Iteration 399, loss = 0.13802592\n",
      "Iteration 400, loss = 0.13772217\n",
      "Iteration 401, loss = 0.13742074\n",
      "Iteration 402, loss = 0.13712167\n",
      "Iteration 403, loss = 0.13682453\n",
      "Iteration 404, loss = 0.13652940\n",
      "Iteration 405, loss = 0.13623609\n",
      "Iteration 406, loss = 0.13594467\n",
      "Iteration 407, loss = 0.13565507\n",
      "Iteration 408, loss = 0.13536800\n",
      "Iteration 409, loss = 0.13508350\n",
      "Iteration 410, loss = 0.13480084\n",
      "Iteration 411, loss = 0.13451997\n",
      "Iteration 412, loss = 0.13424083\n",
      "Iteration 413, loss = 0.13396363\n",
      "Iteration 414, loss = 0.13368832\n",
      "Iteration 415, loss = 0.13341476\n",
      "Iteration 416, loss = 0.13314291\n",
      "Iteration 417, loss = 0.13287270\n",
      "Iteration 418, loss = 0.13260409\n",
      "Iteration 419, loss = 0.13233713\n",
      "Iteration 420, loss = 0.13207256\n",
      "Iteration 421, loss = 0.13181010\n",
      "Iteration 422, loss = 0.13154909\n",
      "Iteration 423, loss = 0.13128951\n",
      "Iteration 424, loss = 0.13103154\n",
      "Iteration 425, loss = 0.13077515\n",
      "Iteration 426, loss = 0.13052107\n",
      "Iteration 427, loss = 0.13026865\n",
      "Iteration 428, loss = 0.13001764\n",
      "Iteration 429, loss = 0.12976836\n",
      "Iteration 430, loss = 0.12952050\n",
      "Iteration 431, loss = 0.12927415\n",
      "Iteration 432, loss = 0.12902928\n",
      "Iteration 433, loss = 0.12878606\n",
      "Iteration 434, loss = 0.12854485\n",
      "Iteration 435, loss = 0.12830562\n",
      "Iteration 436, loss = 0.12806806\n",
      "Iteration 437, loss = 0.12783207\n",
      "Iteration 438, loss = 0.12759711\n",
      "Iteration 439, loss = 0.12736358\n",
      "Iteration 440, loss = 0.12713131\n",
      "Iteration 441, loss = 0.12690038\n",
      "Iteration 442, loss = 0.12667071\n",
      "Iteration 443, loss = 0.12644226\n",
      "Iteration 444, loss = 0.12621434\n",
      "Iteration 445, loss = 0.12598744\n",
      "Iteration 446, loss = 0.12576172\n",
      "Iteration 447, loss = 0.12553683\n",
      "Iteration 448, loss = 0.12531276\n",
      "Iteration 449, loss = 0.12508954\n",
      "Iteration 450, loss = 0.12486673\n",
      "Iteration 451, loss = 0.12464500\n",
      "Iteration 452, loss = 0.12442442\n",
      "Iteration 453, loss = 0.12420470\n",
      "Iteration 454, loss = 0.12398571\n",
      "Iteration 455, loss = 0.12376729\n",
      "Iteration 456, loss = 0.12354879\n",
      "Iteration 457, loss = 0.12333043\n",
      "Iteration 458, loss = 0.12311278\n",
      "Iteration 459, loss = 0.12289473\n",
      "Iteration 460, loss = 0.12267519\n",
      "Iteration 461, loss = 0.12246425\n",
      "Iteration 462, loss = 0.12225324\n",
      "Iteration 463, loss = 0.12204177\n",
      "Iteration 464, loss = 0.12183150\n",
      "Iteration 465, loss = 0.12162241\n",
      "Iteration 466, loss = 0.12141448\n",
      "Iteration 467, loss = 0.12120423\n",
      "Iteration 468, loss = 0.12099144\n",
      "Iteration 469, loss = 0.12077896\n",
      "Iteration 470, loss = 0.12056390\n",
      "Iteration 471, loss = 0.12034509\n",
      "Iteration 472, loss = 0.12011573\n",
      "Iteration 473, loss = 0.11987452\n",
      "Iteration 474, loss = 0.11961630\n",
      "Iteration 475, loss = 0.11935874\n",
      "Iteration 476, loss = 0.11910774\n",
      "Iteration 477, loss = 0.11886599\n",
      "Iteration 478, loss = 0.11862843\n",
      "Iteration 479, loss = 0.11839285\n",
      "Iteration 480, loss = 0.11816736\n",
      "Iteration 481, loss = 0.11795407\n",
      "Iteration 482, loss = 0.11774900\n",
      "Iteration 483, loss = 0.11755250\n",
      "Iteration 484, loss = 0.11736024\n",
      "Iteration 485, loss = 0.11717283\n",
      "Iteration 486, loss = 0.11698863\n",
      "Iteration 487, loss = 0.11680842\n",
      "Iteration 488, loss = 0.11663152\n",
      "Iteration 489, loss = 0.11645677\n",
      "Iteration 490, loss = 0.11628323\n",
      "Iteration 491, loss = 0.11611081\n",
      "Iteration 492, loss = 0.11593973\n",
      "Iteration 493, loss = 0.11576992\n",
      "Iteration 494, loss = 0.11560174\n",
      "Iteration 495, loss = 0.11543468\n",
      "Iteration 496, loss = 0.11526855\n",
      "Iteration 497, loss = 0.11510339\n",
      "Iteration 498, loss = 0.11493923\n",
      "Iteration 499, loss = 0.11477593\n",
      "Iteration 500, loss = 0.11461351\n"
     ]
    },
    {
     "name": "stderr",
     "output_type": "stream",
     "text": [
      "C:\\Users\\youve\\anaconda3\\lib\\site-packages\\sklearn\\neural_network\\_multilayer_perceptron.py:571: ConvergenceWarning: Stochastic Optimizer: Maximum iterations (500) reached and the optimization hasn't converged yet.\n",
      "  % self.max_iter, ConvergenceWarning)\n"
     ]
    },
    {
     "data": {
      "text/plain": [
       "MLPClassifier(activation='relu', alpha=0.0001, batch_size='auto', beta_1=0.9,\n",
       "              beta_2=0.999, early_stopping=False, epsilon=1e-08,\n",
       "              hidden_layer_sizes=(100, 100, 100), learning_rate='constant',\n",
       "              learning_rate_init=0.001, max_fun=15000, max_iter=500,\n",
       "              momentum=0.9, n_iter_no_change=10, nesterovs_momentum=True,\n",
       "              power_t=0.5, random_state=21, shuffle=True, solver='sgd',\n",
       "              tol=1e-09, validation_fraction=0.1, verbose=10, warm_start=False)"
      ]
     },
     "execution_count": 55,
     "metadata": {},
     "output_type": "execute_result"
    }
   ],
   "source": [
    "clf.fit(x_train, y_train)"
   ]
  },
  {
   "cell_type": "code",
   "execution_count": 56,
   "metadata": {},
   "outputs": [],
   "source": [
    "y_pred = clf.predict(x_test)"
   ]
  },
  {
   "cell_type": "code",
   "execution_count": 57,
   "metadata": {},
   "outputs": [
    {
     "data": {
      "text/plain": [
       "array([2, 0, 2, 2, 1, 1, 1, 2, 1, 0, 1, 2, 0, 1, 1, 1, 0, 2, 2, 2, 1, 0,\n",
       "       1, 0, 2, 2, 1, 0, 2, 2, 2, 0, 2, 1, 1, 0, 1, 2])"
      ]
     },
     "execution_count": 57,
     "metadata": {},
     "output_type": "execute_result"
    }
   ],
   "source": [
    "y_pred"
   ]
  },
  {
   "cell_type": "code",
   "execution_count": 58,
   "metadata": {},
   "outputs": [
    {
     "data": {
      "text/plain": [
       "1.0"
      ]
     },
     "execution_count": 58,
     "metadata": {},
     "output_type": "execute_result"
    }
   ],
   "source": [
    "metrics.accuracy_score(y_test, y_pred)"
   ]
  },
  {
   "cell_type": "code",
   "execution_count": 59,
   "metadata": {},
   "outputs": [
    {
     "data": {
      "text/plain": [
       "array([[ 9,  0,  0],\n",
       "       [ 0, 14,  0],\n",
       "       [ 0,  0, 15]], dtype=int64)"
      ]
     },
     "execution_count": 59,
     "metadata": {},
     "output_type": "execute_result"
    }
   ],
   "source": [
    "cm = metrics.confusion_matrix(y_test, y_pred)\n",
    "cm"
   ]
  },
  {
   "cell_type": "code",
   "execution_count": 60,
   "metadata": {},
   "outputs": [
    {
     "name": "stdout",
     "output_type": "stream",
     "text": [
      "Classification report for classifier MLPClassifier(activation='relu', alpha=0.0001, batch_size='auto', beta_1=0.9,\n",
      "              beta_2=0.999, early_stopping=False, epsilon=1e-08,\n",
      "              hidden_layer_sizes=(100, 100, 100), learning_rate='constant',\n",
      "              learning_rate_init=0.001, max_fun=15000, max_iter=500,\n",
      "              momentum=0.9, n_iter_no_change=10, nesterovs_momentum=True,\n",
      "              power_t=0.5, random_state=21, shuffle=True, solver='sgd',\n",
      "              tol=1e-09, validation_fraction=0.1, verbose=10, warm_start=False):\n",
      "              precision    recall  f1-score   support\n",
      "\n",
      "           0       1.00      1.00      1.00         9\n",
      "           1       1.00      1.00      1.00        14\n",
      "           2       1.00      1.00      1.00        15\n",
      "\n",
      "    accuracy                           1.00        38\n",
      "   macro avg       1.00      1.00      1.00        38\n",
      "weighted avg       1.00      1.00      1.00        38\n",
      "\n",
      "\n",
      "Confusion matrix:\n",
      "[[ 9  0  0]\n",
      " [ 0 14  0]\n",
      " [ 0  0 15]]\n"
     ]
    },
    {
     "data": {
      "image/png": "[encoded data removed]",
      "text/plain": [
       "<Figure size 432x288 with 2 Axes>"
      ]
     },
     "metadata": {
      "needs_background": "light"
     },
     "output_type": "display_data"
    }
   ],
   "source": [
    "print(\"Classification report for classifier %s:\\n%s\\n\"\n",
    "      % (clf, metrics.classification_report(y_test, y_pred)))\n",
    "disp = metrics.plot_confusion_matrix(clf, x_test, y_test)\n",
    "disp.figure_.suptitle(\"Confusion Matrix\")\n",
    "print(\"Confusion matrix:\\n%s\" % disp.confusion_matrix)\n",
    "\n",
    "plt.show()"
   ]
  },
  {
   "cell_type": "markdown",
   "metadata": {},
   "source": [
    "# Procédure de sélection d'un modèle sur Sklearn\n",
    "<center>\n",
    "    <img src=\"img/Cross_val.png\" width=\"80%\" />\n",
    "    <br />\n",
    "    <h2>Introduction à la validation croisée</h2>\n",
    "</center>"
   ]
  },
  {
   "cell_type": "code",
   "execution_count": 61,
   "metadata": {},
   "outputs": [
    {
     "data": {
      "text/plain": [
       "0.9473684210526315"
      ]
     },
     "execution_count": 61,
     "metadata": {},
     "output_type": "execute_result"
    }
   ],
   "source": [
    "knn = KNeighborsClassifier(n_neighbors=5)\n",
    "knn.fit(x_train, y_train)\n",
    "y_pred = knn.predict(x_test)\n",
    "score=metrics.accuracy_score(y_test, y_pred)\n",
    "score"
   ]
  },
  {
   "cell_type": "code",
   "execution_count": 62,
   "metadata": {},
   "outputs": [
    {
     "name": "stdout",
     "output_type": "stream",
     "text": [
      "CV accuracy = 0.913333 +-0.083267\n"
     ]
    },
    {
     "name": "stderr",
     "output_type": "stream",
     "text": [
      "C:\\Users\\youve\\anaconda3\\lib\\site-packages\\sklearn\\model_selection\\_split.py:296: FutureWarning: Setting a random_state has no effect since shuffle is False. This will raise an error in 0.24. You should leave random_state to its default (None), or set shuffle=True.\n",
      "  FutureWarning\n"
     ]
    }
   ],
   "source": [
    "from sklearn.model_selection import KFold\n",
    "\n",
    "scores = []\n",
    "\n",
    "for train, test in KFold(n_splits=5, random_state=42).split(X):\n",
    "    X_train, y_train = X[train], y[train]\n",
    "    X_test, y_test = X[test], y[test]\n",
    "    clf = KNeighborsClassifier(n_neighbors=5).fit(X_train, y_train)\n",
    "    scores.append(metrics.accuracy_score(y_test, clf.predict(X_test)))\n",
    "\n",
    "print(\"CV accuracy = %f +-%f\" % (np.mean(scores), np.std(scores)))"
   ]
  },
  {
   "cell_type": "code",
   "execution_count": 63,
   "metadata": {},
   "outputs": [
    {
     "name": "stdout",
     "output_type": "stream",
     "text": [
      "CV accuracy = 0.913333 +-0.083267\n"
     ]
    },
    {
     "name": "stderr",
     "output_type": "stream",
     "text": [
      "C:\\Users\\youve\\anaconda3\\lib\\site-packages\\sklearn\\model_selection\\_split.py:296: FutureWarning: Setting a random_state has no effect since shuffle is False. This will raise an error in 0.24. You should leave random_state to its default (None), or set shuffle=True.\n",
      "  FutureWarning\n"
     ]
    }
   ],
   "source": [
    "# Shortcut\n",
    "from sklearn.model_selection import cross_val_score\n",
    "scores = cross_val_score(KNeighborsClassifier(n_neighbors=5), X, y, \n",
    "                         cv=KFold(n_splits=5, random_state=42), \n",
    "                         scoring=\"accuracy\")\n",
    "print(\"CV accuracy = %f +-%f\" % (np.mean(scores), np.std(scores)))"
   ]
  },
  {
   "cell_type": "markdown",
   "metadata": {},
   "source": [
    "# Approches naives de selection d'hyper parametre vs recherche optimisé avec RandomizedSearchCV  "
   ]
  },
  {
   "cell_type": "code",
   "execution_count": 64,
   "metadata": {},
   "outputs": [
    {
     "data": {
      "image/png": "[encoded data removed]",
      "text/plain": [
       "<Figure size 432x288 with 1 Axes>"
      ]
     },
     "metadata": {
      "needs_background": "light"
     },
     "output_type": "display_data"
    }
   ],
   "source": [
    "x_train, x_test, y_train, y_test = train_test_split(X,y, test_size= 0.25, random_state=27)\n",
    "# experimenting with different n values\n",
    "k_range = list(range(1,26))\n",
    "scores = []\n",
    "for k in k_range:\n",
    "    knn = KNeighborsClassifier(n_neighbors=k)\n",
    "    knn.fit(x_train, y_train)\n",
    "    y_pred = knn.predict(x_test)\n",
    "    scores.append(metrics.accuracy_score(y_test, y_pred))\n",
    "    \n",
    "plt.plot(k_range, scores)\n",
    "plt.xlabel('Value of k for KNN')\n",
    "plt.ylabel('Accuracy Score')\n",
    "plt.title('Accuracy Scores for Values of k of k-Nearest-Neighbors')\n",
    "plt.show()"
   ]
  },
  {
   "cell_type": "code",
   "execution_count": 65,
   "metadata": {},
   "outputs": [],
   "source": [
    "from sklearn.model_selection import GridSearchCV"
   ]
  },
  {
   "cell_type": "code",
   "execution_count": 66,
   "metadata": {},
   "outputs": [
    {
     "name": "stdout",
     "output_type": "stream",
     "text": [
      "[1, 2, 3, 4, 5, 6, 7, 8, 9, 10, 11, 12, 13, 14, 15, 16, 17, 18, 19, 20, 21, 22, 23, 24, 25, 26, 27, 28, 29, 30]\n"
     ]
    }
   ],
   "source": [
    "# define the parameter values that should be searched\n",
    "# for python 2, k_range = range(1, 31)\n",
    "k_range = list(range(1, 31))\n",
    "print(k_range)"
   ]
  },
  {
   "cell_type": "code",
   "execution_count": 67,
   "metadata": {},
   "outputs": [
    {
     "name": "stdout",
     "output_type": "stream",
     "text": [
      "{'n_neighbors': [1, 2, 3, 4, 5, 6, 7, 8, 9, 10, 11, 12, 13, 14, 15, 16, 17, 18, 19, 20, 21, 22, 23, 24, 25, 26, 27, 28, 29, 30]}\n"
     ]
    }
   ],
   "source": [
    "# create a parameter grid: map the parameter names to the values that should be searched\n",
    "# simply a python dictionary\n",
    "# key: parameter name\n",
    "# value: list of values that should be searched for that parameter\n",
    "# single key-value pair for param_grid\n",
    "param_grid = dict(n_neighbors=k_range,)\n",
    "print(param_grid)\n",
    "\n"
   ]
  },
  {
   "cell_type": "code",
   "execution_count": 68,
   "metadata": {},
   "outputs": [],
   "source": [
    "grid = GridSearchCV(knn, param_grid, cv=10, scoring='accuracy')"
   ]
  },
  {
   "cell_type": "code",
   "execution_count": 69,
   "metadata": {},
   "outputs": [
    {
     "data": {
      "text/plain": [
       "GridSearchCV(cv=10, error_score=nan,\n",
       "             estimator=KNeighborsClassifier(algorithm='auto', leaf_size=30,\n",
       "                                            metric='minkowski',\n",
       "                                            metric_params=None, n_jobs=None,\n",
       "                                            n_neighbors=25, p=2,\n",
       "                                            weights='uniform'),\n",
       "             iid='deprecated', n_jobs=None,\n",
       "             param_grid={'n_neighbors': [1, 2, 3, 4, 5, 6, 7, 8, 9, 10, 11, 12,\n",
       "                                         13, 14, 15, 16, 17, 18, 19, 20, 21, 22,\n",
       "                                         23, 24, 25, 26, 27, 28, 29, 30]},\n",
       "             pre_dispatch='2*n_jobs', refit=True, return_train_score=False,\n",
       "             scoring='accuracy', verbose=0)"
      ]
     },
     "execution_count": 69,
     "metadata": {},
     "output_type": "execute_result"
    }
   ],
   "source": [
    "grid.fit(X, y)"
   ]
  },
  {
   "cell_type": "code",
   "execution_count": 70,
   "metadata": {},
   "outputs": [
    {
     "data": {
      "text/plain": [
       "{'mean_fit_time': array([0.00099452, 0.00070009, 0.00039942, 0.00069926, 0.00069835,\n",
       "        0.00059881, 0.00059905, 0.00040033, 0.0003973 , 0.0004976 ,\n",
       "        0.00039744, 0.00039899, 0.00039616, 0.00060153, 0.0003993 ,\n",
       "        0.00079796, 0.00069664, 0.00089951, 0.00069792, 0.00029941,\n",
       "        0.000598  , 0.00050006, 0.00019984, 0.0006989 , 0.00029914,\n",
       "        0.0003984 , 0.00020113, 0.00029922, 0.00029764, 0.00029793]),\n",
       " 'std_fit_time': array([0.00044638, 0.00045833, 0.0004892 , 0.00045779, 0.00045719,\n",
       "        0.00048893, 0.00048913, 0.00049032, 0.00048662, 0.00066871,\n",
       "        0.00048679, 0.00048867, 0.00048522, 0.00049119, 0.00048905,\n",
       "        0.00039899, 0.00045607, 0.00030004, 0.00045692, 0.00045735,\n",
       "        0.00048827, 0.00050009, 0.00039969, 0.00045756, 0.00045695,\n",
       "        0.00048794, 0.00040227, 0.00045706, 0.00045467, 0.00045511]),\n",
       " 'mean_score_time': array([0.00179901, 0.00149355, 0.00119662, 0.00129526, 0.00109866,\n",
       "        0.00119593, 0.00119841, 0.0011929 , 0.00129979, 0.00119622,\n",
       "        0.00109699, 0.00119722, 0.0014992 , 0.00119343, 0.00129569,\n",
       "        0.00109904, 0.00139906, 0.00119209, 0.00129912, 0.0015954 ,\n",
       "        0.00109835, 0.00119638, 0.00129461, 0.00129573, 0.00129678,\n",
       "        0.00129812, 0.00169432, 0.00139539, 0.00119815, 0.00129855]),\n",
       " 'std_score_time': array([0.00040062, 0.00066726, 0.00039942, 0.000459  , 0.00029871,\n",
       "        0.00039881, 0.0003986 , 0.00039996, 0.00045436, 0.00040204,\n",
       "        0.00029928, 0.00039834, 0.00049927, 0.00039895, 0.00045611,\n",
       "        0.00029905, 0.0004858 , 0.00040132, 0.00045836, 0.00048938,\n",
       "        0.0002979 , 0.00040095, 0.00046289, 0.00045868, 0.00045777,\n",
       "        0.00045612, 0.00045858, 0.00048835, 0.00040129, 0.00045501]),\n",
       " 'param_n_neighbors': masked_array(data=[1, 2, 3, 4, 5, 6, 7, 8, 9, 10, 11, 12, 13, 14, 15, 16,\n",
       "                    17, 18, 19, 20, 21, 22, 23, 24, 25, 26, 27, 28, 29, 30],\n",
       "              mask=[False, False, False, False, False, False, False, False,\n",
       "                    False, False, False, False, False, False, False, False,\n",
       "                    False, False, False, False, False, False, False, False,\n",
       "                    False, False, False, False, False, False],\n",
       "        fill_value='?',\n",
       "             dtype=object),\n",
       " 'params': [{'n_neighbors': 1},\n",
       "  {'n_neighbors': 2},\n",
       "  {'n_neighbors': 3},\n",
       "  {'n_neighbors': 4},\n",
       "  {'n_neighbors': 5},\n",
       "  {'n_neighbors': 6},\n",
       "  {'n_neighbors': 7},\n",
       "  {'n_neighbors': 8},\n",
       "  {'n_neighbors': 9},\n",
       "  {'n_neighbors': 10},\n",
       "  {'n_neighbors': 11},\n",
       "  {'n_neighbors': 12},\n",
       "  {'n_neighbors': 13},\n",
       "  {'n_neighbors': 14},\n",
       "  {'n_neighbors': 15},\n",
       "  {'n_neighbors': 16},\n",
       "  {'n_neighbors': 17},\n",
       "  {'n_neighbors': 18},\n",
       "  {'n_neighbors': 19},\n",
       "  {'n_neighbors': 20},\n",
       "  {'n_neighbors': 21},\n",
       "  {'n_neighbors': 22},\n",
       "  {'n_neighbors': 23},\n",
       "  {'n_neighbors': 24},\n",
       "  {'n_neighbors': 25},\n",
       "  {'n_neighbors': 26},\n",
       "  {'n_neighbors': 27},\n",
       "  {'n_neighbors': 28},\n",
       "  {'n_neighbors': 29},\n",
       "  {'n_neighbors': 30}],\n",
       " 'split0_test_score': array([1.        , 1.        , 1.        , 1.        , 1.        ,\n",
       "        1.        , 1.        , 1.        , 1.        , 1.        ,\n",
       "        1.        , 1.        , 1.        , 1.        , 0.93333333,\n",
       "        1.        , 0.93333333, 1.        , 0.93333333, 1.        ,\n",
       "        0.93333333, 0.93333333, 0.93333333, 0.93333333, 0.93333333,\n",
       "        0.93333333, 0.93333333, 0.93333333, 0.93333333, 0.93333333]),\n",
       " 'split1_test_score': array([0.93333333, 0.93333333, 0.93333333, 0.93333333, 0.93333333,\n",
       "        0.93333333, 0.93333333, 0.93333333, 0.93333333, 0.93333333,\n",
       "        0.93333333, 0.93333333, 0.93333333, 0.93333333, 0.93333333,\n",
       "        0.93333333, 0.93333333, 0.93333333, 0.93333333, 0.93333333,\n",
       "        0.93333333, 0.93333333, 0.93333333, 0.93333333, 0.93333333,\n",
       "        0.93333333, 0.93333333, 0.93333333, 0.93333333, 0.93333333]),\n",
       " 'split2_test_score': array([1., 1., 1., 1., 1., 1., 1., 1., 1., 1., 1., 1., 1., 1., 1., 1., 1.,\n",
       "        1., 1., 1., 1., 1., 1., 1., 1., 1., 1., 1., 1., 1.]),\n",
       " 'split3_test_score': array([0.93333333, 0.93333333, 0.93333333, 0.93333333, 1.        ,\n",
       "        1.        , 1.        , 1.        , 1.        , 1.        ,\n",
       "        1.        , 1.        , 1.        , 1.        , 1.        ,\n",
       "        1.        , 1.        , 1.        , 1.        , 1.        ,\n",
       "        1.        , 1.        , 1.        , 1.        , 1.        ,\n",
       "        1.        , 1.        , 0.93333333, 0.93333333, 0.93333333]),\n",
       " 'split4_test_score': array([0.86666667, 0.86666667, 0.86666667, 0.86666667, 0.86666667,\n",
       "        0.86666667, 0.86666667, 1.        , 1.        , 1.        ,\n",
       "        1.        , 1.        , 1.        , 1.        , 1.        ,\n",
       "        1.        , 1.        , 1.        , 1.        , 1.        ,\n",
       "        0.93333333, 1.        , 1.        , 1.        , 1.        ,\n",
       "        1.        , 1.        , 1.        , 1.        , 1.        ]),\n",
       " 'split5_test_score': array([1.        , 1.        , 1.        , 1.        , 0.93333333,\n",
       "        0.93333333, 0.93333333, 0.86666667, 0.93333333, 0.86666667,\n",
       "        0.86666667, 0.93333333, 0.93333333, 0.86666667, 0.93333333,\n",
       "        0.93333333, 0.93333333, 0.93333333, 0.93333333, 0.93333333,\n",
       "        0.93333333, 0.93333333, 0.93333333, 0.86666667, 0.93333333,\n",
       "        0.86666667, 0.86666667, 0.86666667, 0.86666667, 0.86666667]),\n",
       " 'split6_test_score': array([0.86666667, 0.86666667, 0.93333333, 0.93333333, 0.93333333,\n",
       "        0.93333333, 0.93333333, 0.93333333, 0.93333333, 0.93333333,\n",
       "        0.93333333, 0.93333333, 0.93333333, 0.93333333, 0.93333333,\n",
       "        0.93333333, 0.93333333, 0.93333333, 0.93333333, 0.93333333,\n",
       "        0.93333333, 0.93333333, 0.93333333, 0.93333333, 0.93333333,\n",
       "        0.93333333, 0.93333333, 0.93333333, 0.93333333, 0.93333333]),\n",
       " 'split7_test_score': array([1.        , 0.93333333, 1.        , 1.        , 1.        ,\n",
       "        1.        , 1.        , 0.93333333, 0.93333333, 0.93333333,\n",
       "        0.93333333, 0.93333333, 1.        , 1.        , 1.        ,\n",
       "        0.93333333, 1.        , 1.        , 1.        , 1.        ,\n",
       "        1.        , 0.93333333, 1.        , 0.93333333, 0.93333333,\n",
       "        0.93333333, 1.        , 0.93333333, 0.93333333, 0.93333333]),\n",
       " 'split8_test_score': array([1., 1., 1., 1., 1., 1., 1., 1., 1., 1., 1., 1., 1., 1., 1., 1., 1.,\n",
       "        1., 1., 1., 1., 1., 1., 1., 1., 1., 1., 1., 1., 1.]),\n",
       " 'split9_test_score': array([1., 1., 1., 1., 1., 1., 1., 1., 1., 1., 1., 1., 1., 1., 1., 1., 1.,\n",
       "        1., 1., 1., 1., 1., 1., 1., 1., 1., 1., 1., 1., 1.]),\n",
       " 'mean_test_score': array([0.96      , 0.95333333, 0.96666667, 0.96666667, 0.96666667,\n",
       "        0.96666667, 0.96666667, 0.96666667, 0.97333333, 0.96666667,\n",
       "        0.96666667, 0.97333333, 0.98      , 0.97333333, 0.97333333,\n",
       "        0.97333333, 0.97333333, 0.98      , 0.97333333, 0.98      ,\n",
       "        0.96666667, 0.96666667, 0.97333333, 0.96      , 0.96666667,\n",
       "        0.96      , 0.96666667, 0.95333333, 0.95333333, 0.95333333]),\n",
       " 'std_test_score': array([0.05333333, 0.05206833, 0.04472136, 0.04472136, 0.04472136,\n",
       "        0.04472136, 0.04472136, 0.04472136, 0.03265986, 0.04472136,\n",
       "        0.04472136, 0.03265986, 0.0305505 , 0.04422166, 0.03265986,\n",
       "        0.03265986, 0.03265986, 0.0305505 , 0.03265986, 0.0305505 ,\n",
       "        0.03333333, 0.03333333, 0.03265986, 0.04422166, 0.03333333,\n",
       "        0.04422166, 0.04472136, 0.04268749, 0.04268749, 0.04268749]),\n",
       " 'rank_test_score': array([24, 27, 18, 18, 12, 12, 12, 12,  4, 12, 12,  4,  1,  4,  4,  4,  4,\n",
       "         1,  4,  1, 18, 18,  4, 24, 18, 24, 18, 27, 27, 27])}"
      ]
     },
     "execution_count": 70,
     "metadata": {},
     "output_type": "execute_result"
    }
   ],
   "source": [
    "grid.cv_results_"
   ]
  },
  {
   "cell_type": "code",
   "execution_count": 73,
   "metadata": {},
   "outputs": [
    {
     "data": {
      "text/plain": [
       "12"
      ]
     },
     "execution_count": 73,
     "metadata": {},
     "output_type": "execute_result"
    }
   ],
   "source": [
    "grid.best_index_"
   ]
  }
 ],
 "metadata": {
  "kernelspec": {
   "display_name": "Python 3.7.4 64-bit ('base': conda)",
   "language": "python",
   "name": "python37464bitbaseconda38eb4bab6f2d4823946d512d6f3ab753"
  },
  "language_info": {
   "codemirror_mode": {
    "name": "ipython",
    "version": 3
   },
   "file_extension": ".py",
   "mimetype": "text/x-python",
   "name": "python",
   "nbconvert_exporter": "python",
   "pygments_lexer": "ipython3",
   "version": "3.7.6"
  }
 },
 "nbformat": 4,
 "nbformat_minor": 4
}
